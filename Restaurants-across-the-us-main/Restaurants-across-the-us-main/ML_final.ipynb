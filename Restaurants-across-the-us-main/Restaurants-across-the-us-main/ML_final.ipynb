{
 "cells": [
  {
   "cell_type": "code",
   "execution_count": 1,
   "id": "24f6a80d",
   "metadata": {},
   "outputs": [],
   "source": [
    "import pandas as pd\n",
    "import numpy as np\n",
    "import sklearn\n",
    "from sklearn.model_selection import train_test_split\n",
    "from sklearn.preprocessing import StandardScaler, MinMaxScaler, RobustScaler\n",
    "from sklearn import linear_model \n",
    "from sklearn.linear_model import LinearRegression\n",
    "from sklearn.linear_model import Ridge\n",
    "from sklearn.ensemble import RandomForestRegressor\n",
    "from sklearn.neural_network import MLPRegressor\n",
    "\n",
    "from sklearn.svm import SVR\n",
    "import matplotlib.pyplot as plt\n",
    "from sklearn.metrics import r2_score"
   ]
  },
  {
   "cell_type": "code",
   "execution_count": 2,
   "id": "01bb39f6",
   "metadata": {},
   "outputs": [
    {
     "data": {
      "text/html": [
       "<div>\n",
       "<style scoped>\n",
       "    .dataframe tbody tr th:only-of-type {\n",
       "        vertical-align: middle;\n",
       "    }\n",
       "\n",
       "    .dataframe tbody tr th {\n",
       "        vertical-align: top;\n",
       "    }\n",
       "\n",
       "    .dataframe thead th {\n",
       "        text-align: right;\n",
       "    }\n",
       "</style>\n",
       "<table border=\"1\" class=\"dataframe\">\n",
       "  <thead>\n",
       "    <tr style=\"text-align: right;\">\n",
       "      <th></th>\n",
       "      <th>rate</th>\n",
       "      <th>number of reviews</th>\n",
       "      <th>starting price</th>\n",
       "      <th>cuisins</th>\n",
       "      <th>dress code</th>\n",
       "      <th>payment options</th>\n",
       "      <th>dining style</th>\n",
       "      <th>Patio/Outdoor Dining</th>\n",
       "      <th>Bar/Lounge</th>\n",
       "      <th>Delivery</th>\n",
       "      <th>Beer</th>\n",
       "      <th>Weekend Brunch</th>\n",
       "    </tr>\n",
       "  </thead>\n",
       "  <tbody>\n",
       "    <tr>\n",
       "      <th>0</th>\n",
       "      <td>4.7</td>\n",
       "      <td>1140.0</td>\n",
       "      <td>2</td>\n",
       "      <td>61</td>\n",
       "      <td>2</td>\n",
       "      <td>4</td>\n",
       "      <td>3</td>\n",
       "      <td>1</td>\n",
       "      <td>1</td>\n",
       "      <td>1</td>\n",
       "      <td>1</td>\n",
       "      <td>0</td>\n",
       "    </tr>\n",
       "    <tr>\n",
       "      <th>1</th>\n",
       "      <td>4.6</td>\n",
       "      <td>2803.0</td>\n",
       "      <td>2</td>\n",
       "      <td>24</td>\n",
       "      <td>3</td>\n",
       "      <td>4</td>\n",
       "      <td>2</td>\n",
       "      <td>1</td>\n",
       "      <td>1</td>\n",
       "      <td>0</td>\n",
       "      <td>1</td>\n",
       "      <td>1</td>\n",
       "    </tr>\n",
       "    <tr>\n",
       "      <th>2</th>\n",
       "      <td>4.7</td>\n",
       "      <td>4007.0</td>\n",
       "      <td>2</td>\n",
       "      <td>98</td>\n",
       "      <td>1</td>\n",
       "      <td>5</td>\n",
       "      <td>1</td>\n",
       "      <td>1</td>\n",
       "      <td>0</td>\n",
       "      <td>0</td>\n",
       "      <td>1</td>\n",
       "      <td>1</td>\n",
       "    </tr>\n",
       "    <tr>\n",
       "      <th>3</th>\n",
       "      <td>4.5</td>\n",
       "      <td>6778.0</td>\n",
       "      <td>2</td>\n",
       "      <td>61</td>\n",
       "      <td>1</td>\n",
       "      <td>5</td>\n",
       "      <td>1</td>\n",
       "      <td>1</td>\n",
       "      <td>1</td>\n",
       "      <td>1</td>\n",
       "      <td>1</td>\n",
       "      <td>0</td>\n",
       "    </tr>\n",
       "    <tr>\n",
       "      <th>4</th>\n",
       "      <td>4.7</td>\n",
       "      <td>182.0</td>\n",
       "      <td>2</td>\n",
       "      <td>61</td>\n",
       "      <td>2</td>\n",
       "      <td>4</td>\n",
       "      <td>4</td>\n",
       "      <td>1</td>\n",
       "      <td>0</td>\n",
       "      <td>0</td>\n",
       "      <td>1</td>\n",
       "      <td>0</td>\n",
       "    </tr>\n",
       "  </tbody>\n",
       "</table>\n",
       "</div>"
      ],
      "text/plain": [
       "   rate  number of reviews  starting price  cuisins  dress code  \\\n",
       "0   4.7             1140.0               2       61           2   \n",
       "1   4.6             2803.0               2       24           3   \n",
       "2   4.7             4007.0               2       98           1   \n",
       "3   4.5             6778.0               2       61           1   \n",
       "4   4.7              182.0               2       61           2   \n",
       "\n",
       "   payment options  dining style  Patio/Outdoor Dining  Bar/Lounge  Delivery  \\\n",
       "0                4             3                     1           1         1   \n",
       "1                4             2                     1           1         0   \n",
       "2                5             1                     1           0         0   \n",
       "3                5             1                     1           1         1   \n",
       "4                4             4                     1           0         0   \n",
       "\n",
       "   Beer  Weekend Brunch  \n",
       "0     1               0  \n",
       "1     1               1  \n",
       "2     1               1  \n",
       "3     1               0  \n",
       "4     1               0  "
      ]
     },
     "execution_count": 2,
     "metadata": {},
     "output_type": "execute_result"
    }
   ],
   "source": [
    "df=pd.read_excel(r\"C:\\Users\\pc\\Desktop\\מדעי הנתונים\\project\\nomericdata.xlsx\",index_col=0)\n",
    "df.head()"
   ]
  },
  {
   "cell_type": "code",
   "execution_count": 3,
   "id": "f0f2786f",
   "metadata": {},
   "outputs": [
    {
     "name": "stdout",
     "output_type": "stream",
     "text": [
      "Requirement already satisfied: category_encoders in c:\\users\\pc\\anaconda3\\lib\\site-packages (2.3.0)\n",
      "Requirement already satisfied: numpy>=1.14.0 in c:\\users\\pc\\anaconda3\\lib\\site-packages (from category_encoders) (1.20.1)\n",
      "Requirement already satisfied: pandas>=0.21.1 in c:\\users\\pc\\anaconda3\\lib\\site-packages (from category_encoders) (1.2.4)\n",
      "Requirement already satisfied: scipy>=1.0.0 in c:\\users\\pc\\anaconda3\\lib\\site-packages (from category_encoders) (1.6.2)\n",
      "Requirement already satisfied: scikit-learn>=0.20.0 in c:\\users\\pc\\anaconda3\\lib\\site-packages (from category_encoders) (0.24.1)\n",
      "Requirement already satisfied: patsy>=0.5.1 in c:\\users\\pc\\anaconda3\\lib\\site-packages (from category_encoders) (0.5.1)\n",
      "Requirement already satisfied: statsmodels>=0.9.0 in c:\\users\\pc\\anaconda3\\lib\\site-packages (from category_encoders) (0.12.2)\n",
      "Requirement already satisfied: pytz>=2017.3 in c:\\users\\pc\\anaconda3\\lib\\site-packages (from pandas>=0.21.1->category_encoders) (2021.1)\n",
      "Requirement already satisfied: python-dateutil>=2.7.3 in c:\\users\\pc\\anaconda3\\lib\\site-packages (from pandas>=0.21.1->category_encoders) (2.8.1)\n",
      "Requirement already satisfied: six in c:\\users\\pc\\anaconda3\\lib\\site-packages (from patsy>=0.5.1->category_encoders) (1.15.0)\n",
      "Requirement already satisfied: joblib>=0.11 in c:\\users\\pc\\anaconda3\\lib\\site-packages (from scikit-learn>=0.20.0->category_encoders) (1.0.1)\n",
      "Requirement already satisfied: threadpoolctl>=2.0.0 in c:\\users\\pc\\anaconda3\\lib\\site-packages (from scikit-learn>=0.20.0->category_encoders) (2.1.0)\n"
     ]
    }
   ],
   "source": [
    "!pip install category_encoders "
   ]
  },
  {
   "cell_type": "markdown",
   "id": "dd740068",
   "metadata": {},
   "source": [
    "target coding, scale to 'number of reviews'"
   ]
  },
  {
   "cell_type": "code",
   "execution_count": 4,
   "id": "2ad87ac1",
   "metadata": {},
   "outputs": [],
   "source": [
    "from category_encoders import TargetEncoder\n",
    "Targetenc = TargetEncoder()\n",
    "\n",
    "df['cuisins'] = Targetenc.fit_transform(X = df['cuisins'].astype('category'), y = df['rate'])\n",
    "df['cuisins'] = Targetenc.fit_transform(X = df['cuisins'].astype('category'), y = df['rate'])\n",
    "\n",
    "scaler = RobustScaler()\n",
    "df['number of reviews'] = scaler.fit_transform(np.array(df['number of reviews']).reshape(-1,1))\n"
   ]
  },
  {
   "cell_type": "code",
   "execution_count": 5,
   "id": "c43a16c3",
   "metadata": {},
   "outputs": [],
   "source": [
    "TRAINING_FEATURES = df.columns[df.columns != 'rate']\n",
    "TARGET_FEATURE    = 'rate'\n",
    "\n",
    "TRAINING_FEATURES\n",
    "X = df[TRAINING_FEATURES]\n",
    "y = df[TARGET_FEATURE]"
   ]
  },
  {
   "cell_type": "code",
   "execution_count": 6,
   "id": "3df91300",
   "metadata": {},
   "outputs": [
    {
     "data": {
      "text/html": [
       "<div>\n",
       "<style scoped>\n",
       "    .dataframe tbody tr th:only-of-type {\n",
       "        vertical-align: middle;\n",
       "    }\n",
       "\n",
       "    .dataframe tbody tr th {\n",
       "        vertical-align: top;\n",
       "    }\n",
       "\n",
       "    .dataframe thead th {\n",
       "        text-align: right;\n",
       "    }\n",
       "</style>\n",
       "<table border=\"1\" class=\"dataframe\">\n",
       "  <thead>\n",
       "    <tr style=\"text-align: right;\">\n",
       "      <th></th>\n",
       "      <th>number of reviews</th>\n",
       "      <th>starting price</th>\n",
       "      <th>cuisins</th>\n",
       "      <th>dress code</th>\n",
       "      <th>payment options</th>\n",
       "      <th>dining style</th>\n",
       "      <th>Patio/Outdoor Dining</th>\n",
       "      <th>Bar/Lounge</th>\n",
       "      <th>Delivery</th>\n",
       "      <th>Beer</th>\n",
       "      <th>Weekend Brunch</th>\n",
       "    </tr>\n",
       "  </thead>\n",
       "  <tbody>\n",
       "    <tr>\n",
       "      <th>0</th>\n",
       "      <td>0.059132</td>\n",
       "      <td>2</td>\n",
       "      <td>4.520307</td>\n",
       "      <td>2</td>\n",
       "      <td>4</td>\n",
       "      <td>3</td>\n",
       "      <td>1</td>\n",
       "      <td>1</td>\n",
       "      <td>1</td>\n",
       "      <td>1</td>\n",
       "      <td>0</td>\n",
       "    </tr>\n",
       "    <tr>\n",
       "      <th>1</th>\n",
       "      <td>0.852170</td>\n",
       "      <td>2</td>\n",
       "      <td>4.458919</td>\n",
       "      <td>3</td>\n",
       "      <td>4</td>\n",
       "      <td>2</td>\n",
       "      <td>1</td>\n",
       "      <td>1</td>\n",
       "      <td>0</td>\n",
       "      <td>1</td>\n",
       "      <td>1</td>\n",
       "    </tr>\n",
       "    <tr>\n",
       "      <th>2</th>\n",
       "      <td>1.426323</td>\n",
       "      <td>2</td>\n",
       "      <td>4.471756</td>\n",
       "      <td>1</td>\n",
       "      <td>5</td>\n",
       "      <td>1</td>\n",
       "      <td>1</td>\n",
       "      <td>0</td>\n",
       "      <td>0</td>\n",
       "      <td>1</td>\n",
       "      <td>1</td>\n",
       "    </tr>\n",
       "    <tr>\n",
       "      <th>3</th>\n",
       "      <td>2.747735</td>\n",
       "      <td>2</td>\n",
       "      <td>4.520307</td>\n",
       "      <td>1</td>\n",
       "      <td>5</td>\n",
       "      <td>1</td>\n",
       "      <td>1</td>\n",
       "      <td>1</td>\n",
       "      <td>1</td>\n",
       "      <td>1</td>\n",
       "      <td>0</td>\n",
       "    </tr>\n",
       "    <tr>\n",
       "      <th>4</th>\n",
       "      <td>-0.397711</td>\n",
       "      <td>2</td>\n",
       "      <td>4.520307</td>\n",
       "      <td>2</td>\n",
       "      <td>4</td>\n",
       "      <td>4</td>\n",
       "      <td>1</td>\n",
       "      <td>0</td>\n",
       "      <td>0</td>\n",
       "      <td>1</td>\n",
       "      <td>0</td>\n",
       "    </tr>\n",
       "  </tbody>\n",
       "</table>\n",
       "</div>"
      ],
      "text/plain": [
       "   number of reviews  starting price   cuisins  dress code  payment options  \\\n",
       "0           0.059132               2  4.520307           2                4   \n",
       "1           0.852170               2  4.458919           3                4   \n",
       "2           1.426323               2  4.471756           1                5   \n",
       "3           2.747735               2  4.520307           1                5   \n",
       "4          -0.397711               2  4.520307           2                4   \n",
       "\n",
       "   dining style  Patio/Outdoor Dining  Bar/Lounge  Delivery  Beer  \\\n",
       "0             3                     1           1         1     1   \n",
       "1             2                     1           1         0     1   \n",
       "2             1                     1           0         0     1   \n",
       "3             1                     1           1         1     1   \n",
       "4             4                     1           0         0     1   \n",
       "\n",
       "   Weekend Brunch  \n",
       "0               0  \n",
       "1               1  \n",
       "2               1  \n",
       "3               0  \n",
       "4               0  "
      ]
     },
     "execution_count": 6,
     "metadata": {},
     "output_type": "execute_result"
    }
   ],
   "source": [
    "X.head()"
   ]
  },
  {
   "cell_type": "code",
   "execution_count": 7,
   "id": "10127d54",
   "metadata": {},
   "outputs": [
    {
     "data": {
      "text/plain": [
       "0    4.7\n",
       "1    4.6\n",
       "2    4.7\n",
       "3    4.5\n",
       "4    4.7\n",
       "Name: rate, dtype: float64"
      ]
     },
     "execution_count": 7,
     "metadata": {},
     "output_type": "execute_result"
    }
   ],
   "source": [
    "y.head()"
   ]
  },
  {
   "cell_type": "code",
   "execution_count": 8,
   "id": "3a2d1751",
   "metadata": {},
   "outputs": [
    {
     "name": "stdout",
     "output_type": "stream",
     "text": [
      "Initial amount of samples: #4469\n",
      "Number of training samples: #3575\n",
      "Number of test samples: #894\n"
     ]
    }
   ],
   "source": [
    "X_train, X_test, y_train, y_test = train_test_split(X, y, test_size=0.2, random_state=42)\n",
    "\n",
    "print(\"Initial amount of samples: #{}\".format(X.shape[0]))\n",
    "print(\"Number of training samples: #{}\".format(X_train.shape[0]))\n",
    "print(\"Number of test samples: #{}\".format(X_test.shape[0]))"
   ]
  },
  {
   "cell_type": "code",
   "execution_count": 9,
   "id": "f46fda9d",
   "metadata": {},
   "outputs": [
    {
     "data": {
      "image/png": "[encoded data removed]",
      "text/plain": [
       "<Figure size 432x288 with 1 Axes>"
      ]
     },
     "metadata": {
      "needs_background": "light"
     },
     "output_type": "display_data"
    }
   ],
   "source": [
    "plt.scatter(X_train['number of reviews'],y_train)\n",
    "plt.title(\"rate vs number of reviews (Training set)\")  \n",
    "plt.xlabel(\"number of reviews\")\n",
    "plt.ylabel(\"rate\")\n",
    "plt.show()\n"
   ]
  },
  {
   "cell_type": "code",
   "execution_count": 10,
   "id": "44d6debd",
   "metadata": {
    "scrolled": false
   },
   "outputs": [
    {
     "name": "stdout",
     "output_type": "stream",
     "text": [
      "R-squared for testing dataset: 0.05\n",
      "coedd:  [ 0.01402751  0.02367883  1.00001942  0.00939831 -0.00236314  0.00414278\n",
      "  0.00258737 -0.02452394  0.00376875 -0.00674045 -0.02181966]\n",
      "intercept:  -0.030138257223412346\n"
     ]
    }
   ],
   "source": [
    "model = LinearRegression().fit(X_train, y_train)\n",
    "y_pred = model.predict(X_test)\n",
    "\n",
    "# print(\"Predictions: \",y_pred)\n",
    "print(\"R-squared for testing dataset: %.2f\" % r2_score(y_test, y_pred))\n",
    "# y = a1*(number of reviews) + a2*(starting price) + a3*(cuisins)+...+a11(Weekend Brunch)+b\n",
    "print(\"coedd: \",model.coef_) # all of the ai in the equation\n",
    "print(\"intercept: \",model.intercept_) #the b in the equation"
   ]
  },
  {
   "cell_type": "code",
   "execution_count": 11,
   "id": "ade88143",
   "metadata": {},
   "outputs": [
    {
     "name": "stdout",
     "output_type": "stream",
     "text": [
      "R-squared for testing dataset: 0.05\n",
      "coedd:  [ 0.01392663  0.0239079   0.90378959  0.00970375 -0.00243857  0.00390913\n",
      "  0.00218167 -0.02377412  0.00324003 -0.0073647  -0.02348698]\n",
      "intercept:  0.40170671348525744\n"
     ]
    }
   ],
   "source": [
    "model = Ridge().fit(X_train, y_train)\n",
    "y_pred = model.predict(X_test)\n",
    "\n",
    "# print(\"Predictions: \",y_pred)\n",
    "print(\"R-squared for testing dataset: %.2f\" % r2_score(y_test, y_pred))\n",
    "print(\"coedd: \",model.coef_)\n",
    "print(\"intercept: \",model.intercept_)"
   ]
  },
  {
   "cell_type": "code",
   "execution_count": 12,
   "id": "c04b578d",
   "metadata": {},
   "outputs": [
    {
     "name": "stdout",
     "output_type": "stream",
     "text": [
      "R-squared for testing dataset: 0.06\n"
     ]
    }
   ],
   "source": [
    "model = SVR().fit(X_train, y_train)\n",
    "y_pred = model.predict(X_test)\n",
    "print(\"R-squared for testing dataset: %.2f\" % r2_score(y_test, y_pred))"
   ]
  },
  {
   "cell_type": "code",
   "execution_count": 31,
   "id": "3d6d3c6d",
   "metadata": {},
   "outputs": [
    {
     "name": "stdout",
     "output_type": "stream",
     "text": [
      "R-squared for testing dataset: 0.07\n"
     ]
    }
   ],
   "source": [
    "model = MLPRegressor(max_iter=200000).fit(X_train, y_train)\n",
    "y_pred = model.predict(X_test)\n",
    "#print(\"Predictions: \",y_pred)\n",
    "print(\"R-squared for testing dataset: %.2f\" % r2_score(y_test, y_pred))"
   ]
  },
  {
   "cell_type": "code",
   "execution_count": 14,
   "id": "6c84db00",
   "metadata": {},
   "outputs": [
    {
     "data": {
      "text/html": [
       "<div>\n",
       "<style scoped>\n",
       "    .dataframe tbody tr th:only-of-type {\n",
       "        vertical-align: middle;\n",
       "    }\n",
       "\n",
       "    .dataframe tbody tr th {\n",
       "        vertical-align: top;\n",
       "    }\n",
       "\n",
       "    .dataframe thead th {\n",
       "        text-align: right;\n",
       "    }\n",
       "</style>\n",
       "<table border=\"1\" class=\"dataframe\">\n",
       "  <thead>\n",
       "    <tr style=\"text-align: right;\">\n",
       "      <th></th>\n",
       "      <th>Actual</th>\n",
       "      <th>Predicted</th>\n",
       "    </tr>\n",
       "  </thead>\n",
       "  <tbody>\n",
       "    <tr>\n",
       "      <th>0</th>\n",
       "      <td>4.6</td>\n",
       "      <td>4.465157</td>\n",
       "    </tr>\n",
       "    <tr>\n",
       "      <th>1</th>\n",
       "      <td>4.2</td>\n",
       "      <td>4.507992</td>\n",
       "    </tr>\n",
       "    <tr>\n",
       "      <th>2</th>\n",
       "      <td>4.6</td>\n",
       "      <td>4.440992</td>\n",
       "    </tr>\n",
       "    <tr>\n",
       "      <th>3</th>\n",
       "      <td>4.5</td>\n",
       "      <td>4.504476</td>\n",
       "    </tr>\n",
       "    <tr>\n",
       "      <th>4</th>\n",
       "      <td>4.7</td>\n",
       "      <td>4.546513</td>\n",
       "    </tr>\n",
       "    <tr>\n",
       "      <th>5</th>\n",
       "      <td>4.4</td>\n",
       "      <td>4.498064</td>\n",
       "    </tr>\n",
       "    <tr>\n",
       "      <th>6</th>\n",
       "      <td>4.4</td>\n",
       "      <td>4.422199</td>\n",
       "    </tr>\n",
       "    <tr>\n",
       "      <th>7</th>\n",
       "      <td>4.6</td>\n",
       "      <td>4.513807</td>\n",
       "    </tr>\n",
       "    <tr>\n",
       "      <th>8</th>\n",
       "      <td>4.5</td>\n",
       "      <td>4.461637</td>\n",
       "    </tr>\n",
       "    <tr>\n",
       "      <th>9</th>\n",
       "      <td>4.1</td>\n",
       "      <td>4.429548</td>\n",
       "    </tr>\n",
       "    <tr>\n",
       "      <th>10</th>\n",
       "      <td>4.4</td>\n",
       "      <td>4.627272</td>\n",
       "    </tr>\n",
       "    <tr>\n",
       "      <th>11</th>\n",
       "      <td>3.6</td>\n",
       "      <td>4.431740</td>\n",
       "    </tr>\n",
       "    <tr>\n",
       "      <th>12</th>\n",
       "      <td>4.4</td>\n",
       "      <td>4.430915</td>\n",
       "    </tr>\n",
       "    <tr>\n",
       "      <th>13</th>\n",
       "      <td>4.5</td>\n",
       "      <td>4.427578</td>\n",
       "    </tr>\n",
       "    <tr>\n",
       "      <th>14</th>\n",
       "      <td>4.7</td>\n",
       "      <td>4.651337</td>\n",
       "    </tr>\n",
       "    <tr>\n",
       "      <th>15</th>\n",
       "      <td>4.4</td>\n",
       "      <td>4.433886</td>\n",
       "    </tr>\n",
       "    <tr>\n",
       "      <th>16</th>\n",
       "      <td>4.4</td>\n",
       "      <td>4.451274</td>\n",
       "    </tr>\n",
       "    <tr>\n",
       "      <th>17</th>\n",
       "      <td>4.2</td>\n",
       "      <td>4.581576</td>\n",
       "    </tr>\n",
       "    <tr>\n",
       "      <th>18</th>\n",
       "      <td>4.8</td>\n",
       "      <td>4.464483</td>\n",
       "    </tr>\n",
       "    <tr>\n",
       "      <th>19</th>\n",
       "      <td>4.4</td>\n",
       "      <td>4.426335</td>\n",
       "    </tr>\n",
       "  </tbody>\n",
       "</table>\n",
       "</div>"
      ],
      "text/plain": [
       "    Actual  Predicted\n",
       "0      4.6   4.465157\n",
       "1      4.2   4.507992\n",
       "2      4.6   4.440992\n",
       "3      4.5   4.504476\n",
       "4      4.7   4.546513\n",
       "5      4.4   4.498064\n",
       "6      4.4   4.422199\n",
       "7      4.6   4.513807\n",
       "8      4.5   4.461637\n",
       "9      4.1   4.429548\n",
       "10     4.4   4.627272\n",
       "11     3.6   4.431740\n",
       "12     4.4   4.430915\n",
       "13     4.5   4.427578\n",
       "14     4.7   4.651337\n",
       "15     4.4   4.433886\n",
       "16     4.4   4.451274\n",
       "17     4.2   4.581576\n",
       "18     4.8   4.464483\n",
       "19     4.4   4.426335"
      ]
     },
     "execution_count": 14,
     "metadata": {},
     "output_type": "execute_result"
    }
   ],
   "source": [
    "pred = pd.DataFrame({'Actual': y_test.tolist(), 'Predicted': y_pred.tolist()}).head(20)\n",
    "pred"
   ]
  },
  {
   "cell_type": "markdown",
   "id": "c488a97c",
   "metadata": {},
   "source": [
    "X-axis - the actual values,\n",
    "Y-axis - the average of the values that the model predicted with standard deviation"
   ]
  },
  {
   "cell_type": "code",
   "execution_count": 32,
   "id": "9e5d4744",
   "metadata": {},
   "outputs": [
    {
     "data": {
      "text/plain": [
       "(4.0, 5.0)"
      ]
     },
     "execution_count": 32,
     "metadata": {},
     "output_type": "execute_result"
    },
    {
     "data": {
      "image/png": "[encoded data removed]",
      "text/plain": [
       "<Figure size 1080x360 with 1 Axes>"
      ]
     },
     "metadata": {
      "needs_background": "light"
     },
     "output_type": "display_data"
    }
   ],
   "source": [
    "pred = pd.DataFrame({'Actual': y_test.tolist(), 'Predicted': y_pred.tolist()})\n",
    "pred.groupby('Actual')['Predicted'].mean().plot(figsize=(15, 5),yerr=pred.groupby('Actual')['Predicted'].std())\n",
    "plt.xlim(4,5)"
   ]
  }
 ],
 "metadata": {
  "kernelspec": {
   "display_name": "Python 3",
   "language": "python",
   "name": "python3"
  },
  "language_info": {
   "codemirror_mode": {
    "name": "ipython",
    "version": 3
   },
   "file_extension": ".py",
   "mimetype": "text/x-python",
   "name": "python",
   "nbconvert_exporter": "python",
   "pygments_lexer": "ipython3",
   "version": "3.8.8"
  }
 },
 "nbformat": 4,
 "nbformat_minor": 5
}
