{
 "cells": [
  {
   "cell_type": "code",
   "execution_count": 1,
   "id": "c700d31c",
   "metadata": {},
   "outputs": [],
   "source": [
    "import pandas as pd\n",
    "import numpy as np"
   ]
  },
  {
   "cell_type": "code",
   "execution_count": 2,
   "id": "7d11fa62",
   "metadata": {},
   "outputs": [],
   "source": [
    "df2=pd.read_excel(r\"C:\\Users\\pc\\Desktop\\מדעי הנתונים\\project\\dict1.xlsx\")"
   ]
  },
  {
   "cell_type": "code",
   "execution_count": 3,
   "id": "32a94ca5",
   "metadata": {
    "scrolled": false
   },
   "outputs": [
    {
     "data": {
      "text/html": [
       "<div>\n",
       "<style scoped>\n",
       "    .dataframe tbody tr th:only-of-type {\n",
       "        vertical-align: middle;\n",
       "    }\n",
       "\n",
       "    .dataframe tbody tr th {\n",
       "        vertical-align: top;\n",
       "    }\n",
       "\n",
       "    .dataframe thead th {\n",
       "        text-align: right;\n",
       "    }\n",
       "</style>\n",
       "<table border=\"1\" class=\"dataframe\">\n",
       "  <thead>\n",
       "    <tr style=\"text-align: right;\">\n",
       "      <th></th>\n",
       "      <th>name</th>\n",
       "      <th>rate</th>\n",
       "      <th>number of reviews</th>\n",
       "      <th>starting price</th>\n",
       "      <th>cuisins</th>\n",
       "      <th>dress code</th>\n",
       "      <th>parking details</th>\n",
       "      <th>additional</th>\n",
       "      <th>Hours of operation</th>\n",
       "      <th>payment options</th>\n",
       "      <th>dining style</th>\n",
       "    </tr>\n",
       "  </thead>\n",
       "  <tbody>\n",
       "    <tr>\n",
       "      <th>0</th>\n",
       "      <td>Caravaggio New York</td>\n",
       "      <td>4.7</td>\n",
       "      <td>1140 Reviews</td>\n",
       "      <td>$31 to $50</td>\n",
       "      <td>Italian</td>\n",
       "      <td>Business Casual</td>\n",
       "      <td>Nearest Parking Garages:</td>\n",
       "      <td>Bar/Lounge, Beer, Cocktails, Delivery, Full Ba...</td>\n",
       "      <td>['Lunch', 'Daily 12:00 pm–3:00 pm', 'Dinner', ...</td>\n",
       "      <td>AMEX, Discover, MasterCard, Visa</td>\n",
       "      <td>Fine Dining</td>\n",
       "    </tr>\n",
       "    <tr>\n",
       "      <th>1</th>\n",
       "      <td>HAVEN Riverfront Restaurant and Bar</td>\n",
       "      <td>4.6</td>\n",
       "      <td>2803 Reviews</td>\n",
       "      <td>$31 to $50</td>\n",
       "      <td>Contemporary American, Steak, Seafood</td>\n",
       "      <td>Smart Casual</td>\n",
       "      <td>We offer Valet and we have parking garage for ...</td>\n",
       "      <td>Bar/Lounge, Beer, Cafe, Cocktails, Full Bar, H...</td>\n",
       "      <td>['Brunch', 'Sat 11:00 am–2:30 pm', 'Sun 11:00 ...</td>\n",
       "      <td>AMEX, Discover, MasterCard, Visa</td>\n",
       "      <td>Casual Elegant</td>\n",
       "    </tr>\n",
       "    <tr>\n",
       "      <th>2</th>\n",
       "      <td>The Mermaid Inn Uptown</td>\n",
       "      <td>4.7</td>\n",
       "      <td>4007 Reviews</td>\n",
       "      <td>$31 to $50</td>\n",
       "      <td>Seafood</td>\n",
       "      <td>Casual Dress</td>\n",
       "      <td>There is free street parking after 7pm Monday-...</td>\n",
       "      <td>Beer, BYO Wine, Cafe, Corkage Fee, Full Bar, H...</td>\n",
       "      <td>['Mon–Sat 4:30 pm–10:00 pm', 'Brunch', 'Sat, S...</td>\n",
       "      <td>AMEX, Diners Club, Discover, MasterCard, Visa</td>\n",
       "      <td>Casual Dining</td>\n",
       "    </tr>\n",
       "    <tr>\n",
       "      <th>3</th>\n",
       "      <td>Carmine's - 91st Street - NYC</td>\n",
       "      <td>4.5</td>\n",
       "      <td>6778 Reviews</td>\n",
       "      <td>$31 to $50</td>\n",
       "      <td>Italian, Contemporary Italian, Regional Italia...</td>\n",
       "      <td>Casual Dress</td>\n",
       "      <td>Champion Parking - 114 West 92nd St. (Between ...</td>\n",
       "      <td>Banquet, Bar/Lounge, Beer, Cafe, Cocktails, Co...</td>\n",
       "      <td>['Mon–Thu, Sun 11:30 am–10:00 pm', 'Fri, Sat 1...</td>\n",
       "      <td>AMEX, Diners Club, Discover, MasterCard, Visa</td>\n",
       "      <td>Casual Dining</td>\n",
       "    </tr>\n",
       "    <tr>\n",
       "      <th>4</th>\n",
       "      <td>IL Carino Restaurant</td>\n",
       "      <td>4.7</td>\n",
       "      <td>182 Reviews</td>\n",
       "      <td>$31 to $50</td>\n",
       "      <td>Italian</td>\n",
       "      <td>Business Casual</td>\n",
       "      <td>Street Parking</td>\n",
       "      <td>Beer, Cocktails, Full Bar, Non-Smoking, Patio/...</td>\n",
       "      <td>['Mon–Sat 4:00 pm–10:00 pm']</td>\n",
       "      <td>AMEX, Discover, MasterCard, Visa</td>\n",
       "      <td>Elegant Dining</td>\n",
       "    </tr>\n",
       "  </tbody>\n",
       "</table>\n",
       "</div>"
      ],
      "text/plain": [
       "                                  name rate number of reviews starting price  \\\n",
       "0                  Caravaggio New York  4.7      1140 Reviews     $31 to $50   \n",
       "1  HAVEN Riverfront Restaurant and Bar  4.6      2803 Reviews     $31 to $50   \n",
       "2               The Mermaid Inn Uptown  4.7      4007 Reviews     $31 to $50   \n",
       "3        Carmine's - 91st Street - NYC  4.5      6778 Reviews     $31 to $50   \n",
       "4                 IL Carino Restaurant  4.7       182 Reviews     $31 to $50   \n",
       "\n",
       "                                             cuisins       dress code  \\\n",
       "0                                            Italian  Business Casual   \n",
       "1              Contemporary American, Steak, Seafood     Smart Casual   \n",
       "2                                            Seafood     Casual Dress   \n",
       "3  Italian, Contemporary Italian, Regional Italia...     Casual Dress   \n",
       "4                                            Italian  Business Casual   \n",
       "\n",
       "                                     parking details  \\\n",
       "0                           Nearest Parking Garages:   \n",
       "1  We offer Valet and we have parking garage for ...   \n",
       "2  There is free street parking after 7pm Monday-...   \n",
       "3  Champion Parking - 114 West 92nd St. (Between ...   \n",
       "4                                     Street Parking   \n",
       "\n",
       "                                          additional  \\\n",
       "0  Bar/Lounge, Beer, Cocktails, Delivery, Full Ba...   \n",
       "1  Bar/Lounge, Beer, Cafe, Cocktails, Full Bar, H...   \n",
       "2  Beer, BYO Wine, Cafe, Corkage Fee, Full Bar, H...   \n",
       "3  Banquet, Bar/Lounge, Beer, Cafe, Cocktails, Co...   \n",
       "4  Beer, Cocktails, Full Bar, Non-Smoking, Patio/...   \n",
       "\n",
       "                                  Hours of operation  \\\n",
       "0  ['Lunch', 'Daily 12:00 pm–3:00 pm', 'Dinner', ...   \n",
       "1  ['Brunch', 'Sat 11:00 am–2:30 pm', 'Sun 11:00 ...   \n",
       "2  ['Mon–Sat 4:30 pm–10:00 pm', 'Brunch', 'Sat, S...   \n",
       "3  ['Mon–Thu, Sun 11:30 am–10:00 pm', 'Fri, Sat 1...   \n",
       "4                       ['Mon–Sat 4:00 pm–10:00 pm']   \n",
       "\n",
       "                                 payment options    dining style  \n",
       "0               AMEX, Discover, MasterCard, Visa     Fine Dining  \n",
       "1               AMEX, Discover, MasterCard, Visa  Casual Elegant  \n",
       "2  AMEX, Diners Club, Discover, MasterCard, Visa   Casual Dining  \n",
       "3  AMEX, Diners Club, Discover, MasterCard, Visa   Casual Dining  \n",
       "4               AMEX, Discover, MasterCard, Visa  Elegant Dining  "
      ]
     },
     "execution_count": 3,
     "metadata": {},
     "output_type": "execute_result"
    }
   ],
   "source": [
    "df=pd.read_excel(\"dict1.xlsx\")\n",
    "df.head()"
   ]
  },
  {
   "cell_type": "markdown",
   "id": "f70689eb",
   "metadata": {},
   "source": [
    "The number of not rated resturants is small, so we can remove them:"
   ]
  },
  {
   "cell_type": "code",
   "execution_count": 4,
   "id": "974d23af",
   "metadata": {},
   "outputs": [
    {
     "name": "stdout",
     "output_type": "stream",
     "text": [
      "31\n"
     ]
    }
   ],
   "source": [
    "print(df[df['rate']=='No Reviews'].shape[0])\n",
    "df = df[df['rate']!='No Reviews']"
   ]
  },
  {
   "cell_type": "markdown",
   "id": "1c80c13b",
   "metadata": {},
   "source": [
    "Convert 'rate' to numeric values, convert 'cuisins' to string"
   ]
  },
  {
   "cell_type": "code",
   "execution_count": 5,
   "id": "5f2dd098",
   "metadata": {},
   "outputs": [],
   "source": [
    "df['rate'] = pd.to_numeric(df['rate'])\n",
    "df['cuisins']=df['cuisins'].astype(str)"
   ]
  },
  {
   "cell_type": "markdown",
   "id": "88187d8b",
   "metadata": {},
   "source": [
    "Clean 'number of reviews' string"
   ]
  },
  {
   "cell_type": "code",
   "execution_count": 6,
   "id": "69fc5338",
   "metadata": {},
   "outputs": [],
   "source": [
    "df['number of reviews']=df['number of reviews'].apply(lambda x: x.replace(' Reviews',''))"
   ]
  },
  {
   "cell_type": "markdown",
   "id": "5c1d18cf",
   "metadata": {},
   "source": [
    "Replace 'No' with number of reviews mean"
   ]
  },
  {
   "cell_type": "code",
   "execution_count": 7,
   "id": "fe211578",
   "metadata": {},
   "outputs": [],
   "source": [
    "num_reviews = pd.to_numeric(df[df['number of reviews']!='No']['number of reviews'])\n",
    "replace_style = {'No' : str(num_reviews.mean())}\n",
    "df['number of reviews'] = df['number of reviews'].replace(replace_style)\n",
    "df['number of reviews'] = pd.to_numeric(df['number of reviews'])"
   ]
  },
  {
   "cell_type": "markdown",
   "id": "16c96672",
   "metadata": {},
   "source": [
    "Felling 'Payment options' with mode',\n",
    "Split 'Payment options' and replace it with the number of payment options available."
   ]
  },
  {
   "cell_type": "code",
   "execution_count": 8,
   "id": "f32c4945",
   "metadata": {},
   "outputs": [],
   "source": [
    "df['payment options'] = df['payment options'].fillna(df['payment options'].mode()[0])\n",
    "df['payment options'] = df['payment options'].str.split(\", \", expand = True).notna().sum(axis=1)"
   ]
  },
  {
   "cell_type": "markdown",
   "id": "1b363f5a",
   "metadata": {},
   "source": [
    "droping duplicates, fillng the null values with the most common"
   ]
  },
  {
   "cell_type": "code",
   "execution_count": 9,
   "id": "2915f59e",
   "metadata": {},
   "outputs": [
    {
     "name": "stdout",
     "output_type": "stream",
     "text": [
      "<class 'pandas.core.frame.DataFrame'>\n",
      "Int64Index: 4469 entries, 0 to 4499\n",
      "Data columns (total 11 columns):\n",
      " #   Column              Non-Null Count  Dtype  \n",
      "---  ------              --------------  -----  \n",
      " 0   name                4469 non-null   object \n",
      " 1   rate                4469 non-null   float64\n",
      " 2   number of reviews   4469 non-null   float64\n",
      " 3   starting price      4469 non-null   object \n",
      " 4   cuisins             4469 non-null   object \n",
      " 5   dress code          4469 non-null   object \n",
      " 6   parking details     4469 non-null   object \n",
      " 7   additional          4469 non-null   object \n",
      " 8   Hours of operation  4452 non-null   object \n",
      " 9   payment options     4469 non-null   int64  \n",
      " 10  dining style        4469 non-null   object \n",
      "dtypes: float64(2), int64(1), object(8)\n",
      "memory usage: 419.0+ KB\n"
     ]
    }
   ],
   "source": [
    "df.drop_duplicates()\n",
    "df.additional = df.additional.fillna(df.additional.mode()[0]) \n",
    "df.info()"
   ]
  },
  {
   "cell_type": "code",
   "execution_count": 10,
   "id": "d984c334",
   "metadata": {},
   "outputs": [
    {
     "data": {
      "text/plain": [
       "0       1140.0\n",
       "1       2803.0\n",
       "2       4007.0\n",
       "3       6778.0\n",
       "4        182.0\n",
       "         ...  \n",
       "4495    1234.0\n",
       "4496    1423.0\n",
       "4497     596.0\n",
       "4498     744.0\n",
       "4499    2112.0\n",
       "Name: number of reviews, Length: 4469, dtype: float64"
      ]
     },
     "execution_count": 10,
     "metadata": {},
     "output_type": "execute_result"
    }
   ],
   "source": [
    "for i in df.index:\n",
    "    if(df['starting price'][i] != \"$30 and under\" and df['starting price'][i] != '$31 to $50'  and df['starting price'][i] != '$50 and over'):\n",
    "        df['starting price'][i] = '$30 and under'"
   ]
  },
  {
   "cell_type": "markdown",
   "id": "a24418e6",
   "metadata": {},
   "source": [
    "convert categorical data to numerical data"
   ]
  },
  {
   "cell_type": "code",
   "execution_count": 11,
   "id": "0837c502",
   "metadata": {},
   "outputs": [],
   "source": [
    "df['dining style'] = df['dining style'].astype('category')\n",
    "replace_style = {'Casual Dining': 1, 'Casual Elegant': 2,'Fine Dining': 3,'Elegant Dining' : 4, 'View details' : 1}\n",
    "df['dining style'] = df['dining style'].replace(replace_style)\n",
    "replace_price = {'$30 and under': 1, '$31 to $50': 2, '$50 and over': 3}\n",
    "df['starting price'] = df['starting price'].replace(replace_price)\n",
    "replace_dress ={'Casual Dress':1,'Business Casual':2,'Smart Casual':3,'Resort Casual':4,'Jacket Preferred':5,'Formal Attire':6,'Jacket Required':7}\n",
    "df['dress code'] = df['dress code'].replace(replace_dress)\n"
   ]
  },
  {
   "cell_type": "markdown",
   "id": "34e05abc",
   "metadata": {},
   "source": [
    "Split 'cuisins' and get only the first variable, convert categorical data to numerical data"
   ]
  },
  {
   "cell_type": "code",
   "execution_count": 12,
   "id": "21dfa793",
   "metadata": {},
   "outputs": [],
   "source": [
    "df['cuisins'] = df['cuisins'].str.split(\", \", expand = True)[0]\n",
    "df['cuisins'] = df['cuisins'].astype('category').cat.codes"
   ]
  },
  {
   "cell_type": "markdown",
   "id": "5cd6b940",
   "metadata": {},
   "source": [
    "Split 'additional' information"
   ]
  },
  {
   "cell_type": "code",
   "execution_count": 15,
   "id": "eba3ed06",
   "metadata": {},
   "outputs": [
    {
     "data": {
      "text/plain": [
       "Patio/Outdoor Dining       5839\n",
       "Wine                       4205\n",
       "Full Bar                   4023\n",
       "Beer                       4020\n",
       "Wheelchair Access          3690\n",
       "Takeout                    3521\n",
       "Non-Smoking                3452\n",
       "Cocktails                  3433\n",
       "Bar/Lounge                 3106\n",
       "Weekend Brunch             2630\n",
       "Delivery                   2471\n",
       "Gluten-free Options        2411\n",
       "Happy Hour                 2336\n",
       "Private Room               2070\n",
       "Corkage Fee                2055\n",
       "Banquet                    1679\n",
       "Late Night                 1625\n",
       "Counter Seating            1356\n",
       "BYO Wine                   1227\n",
       "Cafe                       1100\n",
       "View                        953\n",
       "Gender Neutral Restroom     948\n",
       "Entertainment               769\n",
       "Vegan                       559\n",
       "Indoor Fireplace            539\n",
       "Outdoor Smoking Area        422\n",
       "Chef's Table                315\n",
       "Bar Dining                  272\n",
       "Dancing                     198\n",
       "Beer Garden                 186\n",
       "Dog Friendly                103\n",
       "BYO Liquor                   82\n",
       "Kosher                       76\n",
       "High Tea                     44\n",
       "Outdoor Firepit              27\n",
       "Farm to Table                15\n",
       "Indoor Smoking Area          11\n",
       "Cigar Room                    9\n",
       "Wi-Fi available               5\n",
       "Name: value, dtype: int64"
      ]
     },
     "execution_count": 15,
     "metadata": {},
     "output_type": "execute_result"
    }
   ],
   "source": [
    "additional = df['additional'].str.split(\", \", expand = True)\n",
    "additional.melt()['value'].value_counts()"
   ]
  },
  {
   "cell_type": "markdown",
   "id": "4edfed81",
   "metadata": {},
   "source": [
    "Adding columns from additional values"
   ]
  },
  {
   "cell_type": "code",
   "execution_count": 14,
   "id": "d3499735",
   "metadata": {},
   "outputs": [],
   "source": [
    "for col in additional.melt()['value'].value_counts().index[:1]:\n",
    "    df[col] = np.where(df[\"additional\"].str.contains(col), 1, 0)\n",
    "for col in additional.melt()['value'].value_counts().index[8:11]:\n",
    "    df[col] = np.where(df[\"additional\"].str.contains(col), 1, 0)\n",
    "for col in additional.melt()['value'].value_counts().index[3:4]:\n",
    "    df[col] = np.where(df[\"additional\"].str.contains(col), 1, 0)\n",
    "for col in additional.melt()['value'].value_counts().index[9:10]:\n",
    "    df[col] = np.where(df[\"additional\"].str.contains(col), 1, 0)"
   ]
  },
  {
   "cell_type": "markdown",
   "id": "69bf72bc",
   "metadata": {},
   "source": [
    "delete coloums"
   ]
  },
  {
   "cell_type": "code",
   "execution_count": null,
   "id": "4890a52e",
   "metadata": {},
   "outputs": [],
   "source": [
    "df.drop(columns=['name','parking details','Hours of operation','additional'],inplace=True)\n",
    "df"
   ]
  },
  {
   "cell_type": "code",
   "execution_count": null,
   "id": "0e3cdb93",
   "metadata": {},
   "outputs": [],
   "source": [
    "df.to_excel(\"nomericdata.xlsx\")"
   ]
  }
 ],
 "metadata": {
  "kernelspec": {
   "display_name": "Python 3",
   "language": "python",
   "name": "python3"
  },
  "language_info": {
   "codemirror_mode": {
    "name": "ipython",
    "version": 3
   },
   "file_extension": ".py",
   "mimetype": "text/x-python",
   "name": "python",
   "nbconvert_exporter": "python",
   "pygments_lexer": "ipython3",
   "version": "3.8.8"
  }
 },
 "nbformat": 4,
 "nbformat_minor": 5
}
